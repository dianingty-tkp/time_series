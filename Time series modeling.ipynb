{
 "cells": [
  {
   "cell_type": "markdown",
   "metadata": {},
   "source": [
    "Hello!\n",
    "\n",
    "Here I will give some syntax for forecasting.\n",
    "Last project I did actually has a lot of things to forecast. So, to simplify all the process I made it to some functions that later I will break it down.\n",
    "\n",
    "Please take a note that the functions I made here is only suitable with cross validation that I used, one step forecast cross validation."
   ]
  },
  {
   "cell_type": "markdown",
   "metadata": {},
   "source": [
    "Please import all the libraries below"
   ]
  },
  {
   "cell_type": "code",
   "execution_count": 27,
   "metadata": {
    "ExecuteTime": {
     "end_time": "2019-10-04T03:01:44.106679Z",
     "start_time": "2019-10-04T03:01:44.077144Z"
    }
   },
   "outputs": [],
   "source": [
    "#This library is for data wrangling\n",
    "import pandas as pd\n",
    "#This one for making array here. But in other projects this library will give you a lot of benefits\n",
    "import numpy as np\n",
    "#This one is the metrics we use in this project\n",
    "#Actualy I use RMSE here, but because sklearn only have MSE. Then lets use square root\n",
    "from sklearn.metrics import mean_squared_error\n",
    "#This one is to remove warnings\n",
    "#FYI, each warning is precious, only use this if you really need\n",
    "import warnings\n",
    "warnings.filterwarnings(\"ignore\")"
   ]
  },
  {
   "cell_type": "markdown",
   "metadata": {},
   "source": [
    "# Importing data"
   ]
  },
  {
   "cell_type": "markdown",
   "metadata": {},
   "source": [
    "Lets import the data using pandas. We use index column 0, you will see it later."
   ]
  },
  {
   "cell_type": "code",
   "execution_count": 28,
   "metadata": {
    "ExecuteTime": {
     "end_time": "2019-10-04T03:01:47.481559Z",
     "start_time": "2019-10-04T03:01:47.118536Z"
    }
   },
   "outputs": [],
   "source": [
    "df = pd.read_csv('airline_passengers.csv', index_col=0)"
   ]
  },
  {
   "cell_type": "markdown",
   "metadata": {},
   "source": [
    "You can see it down here, that Month has become index in the data frame"
   ]
  },
  {
   "cell_type": "code",
   "execution_count": 29,
   "metadata": {
    "ExecuteTime": {
     "end_time": "2019-10-04T03:01:48.988252Z",
     "start_time": "2019-10-04T03:01:48.830220Z"
    },
    "scrolled": true
   },
   "outputs": [
    {
     "data": {
      "text/html": [
       "<div>\n",
       "<style scoped>\n",
       "    .dataframe tbody tr th:only-of-type {\n",
       "        vertical-align: middle;\n",
       "    }\n",
       "\n",
       "    .dataframe tbody tr th {\n",
       "        vertical-align: top;\n",
       "    }\n",
       "\n",
       "    .dataframe thead th {\n",
       "        text-align: right;\n",
       "    }\n",
       "</style>\n",
       "<table border=\"1\" class=\"dataframe\">\n",
       "  <thead>\n",
       "    <tr style=\"text-align: right;\">\n",
       "      <th></th>\n",
       "      <th>Thousands of Passengers</th>\n",
       "    </tr>\n",
       "    <tr>\n",
       "      <th>Month</th>\n",
       "      <th></th>\n",
       "    </tr>\n",
       "  </thead>\n",
       "  <tbody>\n",
       "    <tr>\n",
       "      <th>1949-01</th>\n",
       "      <td>112</td>\n",
       "    </tr>\n",
       "    <tr>\n",
       "      <th>1949-02</th>\n",
       "      <td>118</td>\n",
       "    </tr>\n",
       "    <tr>\n",
       "      <th>1949-03</th>\n",
       "      <td>132</td>\n",
       "    </tr>\n",
       "    <tr>\n",
       "      <th>1949-04</th>\n",
       "      <td>129</td>\n",
       "    </tr>\n",
       "    <tr>\n",
       "      <th>1949-05</th>\n",
       "      <td>121</td>\n",
       "    </tr>\n",
       "  </tbody>\n",
       "</table>\n",
       "</div>"
      ],
      "text/plain": [
       "         Thousands of Passengers\n",
       "Month                           \n",
       "1949-01                      112\n",
       "1949-02                      118\n",
       "1949-03                      132\n",
       "1949-04                      129\n",
       "1949-05                      121"
      ]
     },
     "execution_count": 29,
     "metadata": {},
     "output_type": "execute_result"
    }
   ],
   "source": [
    "df.head()"
   ]
  },
  {
   "cell_type": "markdown",
   "metadata": {},
   "source": [
    "The data frame contains 144 rows and have 1 column."
   ]
  },
  {
   "cell_type": "code",
   "execution_count": 32,
   "metadata": {
    "ExecuteTime": {
     "end_time": "2019-10-04T03:02:23.804568Z",
     "start_time": "2019-10-04T03:02:23.795552Z"
    },
    "scrolled": true
   },
   "outputs": [
    {
     "data": {
      "text/plain": [
       "(144, 1)"
      ]
     },
     "execution_count": 32,
     "metadata": {},
     "output_type": "execute_result"
    }
   ],
   "source": [
    "df.shape"
   ]
  },
  {
   "cell_type": "markdown",
   "metadata": {},
   "source": [
    "Before going further, first we need to know the data. Simplest way to know it is to plot it.\n",
    "Lets use pandas built-in method, plot."
   ]
  },
  {
   "cell_type": "code",
   "execution_count": 33,
   "metadata": {
    "ExecuteTime": {
     "end_time": "2019-10-04T03:02:26.218552Z",
     "start_time": "2019-10-04T03:02:25.862228Z"
    },
    "scrolled": true
   },
   "outputs": [
    {
     "data": {
      "image/png": "[encoded data removed]",
      "text/plain": [
       "<Figure size 432x288 with 1 Axes>"
      ]
     },
     "metadata": {
      "needs_background": "light"
     },
     "output_type": "display_data"
    }
   ],
   "source": [
    "df.plot.line(y='Thousands of Passengers');"
   ]
  },
  {
   "cell_type": "markdown",
   "metadata": {},
   "source": [
    "# Cross Validation - one-step forecasts"
   ]
  },
  {
   "cell_type": "markdown",
   "metadata": {},
   "source": [
    "Before moving to the functions I use, lets learn more about cross validation in time series.\n",
    "Generally cross validation is splitting data into two parts, train and test. But because time series data has special nature, we need to consider its order to split it. So, we have to use 'before' data as train, and 'after' data as test (this is my personal way to call it).\n",
    "\n",
    "One-step forecast focuses on a single forecast horizon for each test set.\n",
    "\n",
    "I attached a document in the same folder as this jupyter notebook file that you can read. It titled `Time Series Cross Validation`"
   ]
  },
  {
   "cell_type": "markdown",
   "metadata": {},
   "source": [
    "Here we have 144 observations, and I will use 140 data as train and another 4 as test data."
   ]
  },
  {
   "cell_type": "markdown",
   "metadata": {},
   "source": [
    "# Forecasting"
   ]
  },
  {
   "cell_type": "markdown",
   "metadata": {},
   "source": [
    "Basically, the steps I used in each functions are the same. I will try to explain it simply\n",
    "1. In each functions, I will have `rmse = []` to store the rmse I got. This will help us in choosing the best model.\n",
    "2. I will also have a list containing combinations of hyperparameters I use. It will be different in each method.\n",
    "3. Some looping (`for blablabla` things) before `forcs = []` is the looping of hyperparameters I use.\n",
    "4. `forcs = []` is used to store the forecast result in each step (related to cross validations I mention before).\n",
    "5. `rmse.append(np.sqrt(mean_squared_error(train_data.iloc[train_number:, 0].tolist(), forcs)))` this line is to take the RMSE of each hyperparameters combination\n",
    "6. `return (range(1,50)[rmse.index([min(rmse)])], min(rmse))` and then I will return just the best hyperparameters and the smallest RMSE\n",
    "7. You will see some `try` and `except` things. Those are for handling error in the process. You can google it with keyword `exception in python`"
   ]
  },
  {
   "cell_type": "markdown",
   "metadata": {},
   "source": [
    "All input format in each function are `(df,number of train data,number of test data)`."
   ]
  },
  {
   "cell_type": "markdown",
   "metadata": {},
   "source": [
    "## Baseline model : MA"
   ]
  },
  {
   "cell_type": "markdown",
   "metadata": {},
   "source": [
    "Here I use MA as the baseline model.\n",
    "\n",
    "Why we need baseline model? To know how far can our best model predict something, we need a comparison with a baseline model, which is the simplest and easiest method we use. So, if a complex model's performace not much better than the baseline's, then just use the easiest one."
   ]
  },
  {
   "cell_type": "markdown",
   "metadata": {},
   "source": [
    "MA is a methods that just averaging n observations before to forecast the next one observation.\n",
    "\n",
    "For further informations, please google it with keyword \"Simple Moving Average\""
   ]
  },
  {
   "cell_type": "markdown",
   "metadata": {},
   "source": [
    "Hyperparameter that I need to tune here is the value of n (number of observations to average)."
   ]
  },
  {
   "cell_type": "code",
   "execution_count": 34,
   "metadata": {
    "ExecuteTime": {
     "end_time": "2019-10-04T03:02:30.144411Z",
     "start_time": "2019-10-04T03:02:30.129455Z"
    }
   },
   "outputs": [],
   "source": [
    "def MA(train_data, train_number, test_number):\n",
    "    rmse = []\n",
    "    for i in range(1, 50): #looping n\n",
    "        forcs = []\n",
    "        for roll in range(0, test_number):\n",
    "            train = train_data.iloc[1:(train_number + roll), 0]\n",
    "            forecast = train.iloc[(len(train) - i):].mean()\n",
    "            forcs.append(forecast)\n",
    "        rmse.append(np.sqrt(mean_squared_error(train_data.iloc[train_number:, 0].tolist(), forcs)))\n",
    "    print('Best hyperparameter is ' + str(range(1,50)[rmse.index([min(rmse)])])+ ' with RMSE ' + str(min(rmse)))"
   ]
  },
  {
   "cell_type": "markdown",
   "metadata": {},
   "source": [
    "Then you can use it here to forecast the data."
   ]
  },
  {
   "cell_type": "code",
   "execution_count": 35,
   "metadata": {
    "ExecuteTime": {
     "end_time": "2019-10-04T03:02:32.247879Z",
     "start_time": "2019-10-04T03:02:32.079842Z"
    }
   },
   "outputs": [
    {
     "name": "stdout",
     "output_type": "stream",
     "text": [
      "Best hyperparameter is 26 with RMSE 43.03458169767066\n"
     ]
    }
   ],
   "source": [
    "MA(df,140,4)"
   ]
  },
  {
   "cell_type": "markdown",
   "metadata": {},
   "source": [
    "## Single Exponential Smoothing"
   ]
  },
  {
   "cell_type": "code",
   "execution_count": 36,
   "metadata": {
    "ExecuteTime": {
     "end_time": "2019-10-04T03:02:33.527224Z",
     "start_time": "2019-10-04T03:02:33.520220Z"
    }
   },
   "outputs": [],
   "source": [
    "from statsmodels.tsa.api import SimpleExpSmoothing"
   ]
  },
  {
   "cell_type": "markdown",
   "metadata": {},
   "source": [
    "In single exponential smoothing, hyperparameter we need to tune is alpha (first order smoothing factor)"
   ]
  },
  {
   "cell_type": "code",
   "execution_count": 37,
   "metadata": {
    "ExecuteTime": {
     "end_time": "2019-10-04T03:02:34.868154Z",
     "start_time": "2019-10-04T03:02:34.849053Z"
    }
   },
   "outputs": [],
   "source": [
    "def SES(train_data, train_number, test_number):\n",
    "    alpha = []\n",
    "    rmse = []\n",
    "    for i in np.arange(0, 1, 0.01): #looping alpha\n",
    "        forcs = []\n",
    "        for roll in range(0, test_number):\n",
    "            train = train_data.iloc[1:(train_number + roll), 0]\n",
    "            simpleexp = SimpleExpSmoothing(np.array(train))\n",
    "            fit_simpleexp = simpleexp.fit(smoothing_level=i)\n",
    "            forecast = fit_simpleexp.forecast()\n",
    "            forcs.append(forecast[0])\n",
    "        rmse.append(np.sqrt(mean_squared_error(train_data.iloc[train_number:, 0].tolist(), forcs)))\n",
    "        alpha.append(i)\n",
    "    print('Best hyperparameter is ' + str(alpha[rmse.index([min(rmse)])])+ ' with RMSE ' + str(min(rmse)))"
   ]
  },
  {
   "cell_type": "code",
   "execution_count": 38,
   "metadata": {
    "ExecuteTime": {
     "end_time": "2019-10-04T03:02:38.347634Z",
     "start_time": "2019-10-04T03:02:36.169053Z"
    },
    "scrolled": true
   },
   "outputs": [
    {
     "name": "stdout",
     "output_type": "stream",
     "text": [
      "Best hyperparameter is 0.07 with RMSE 44.425253945643554\n"
     ]
    }
   ],
   "source": [
    "SES(df,140,4)"
   ]
  },
  {
   "cell_type": "markdown",
   "metadata": {},
   "source": [
    "## Double Exponential Smoothing"
   ]
  },
  {
   "cell_type": "code",
   "execution_count": 39,
   "metadata": {
    "ExecuteTime": {
     "end_time": "2019-10-04T03:02:42.937083Z",
     "start_time": "2019-10-04T03:02:42.931143Z"
    }
   },
   "outputs": [],
   "source": [
    "from statsmodels.tsa.api import Holt"
   ]
  },
  {
   "cell_type": "markdown",
   "metadata": {},
   "source": [
    "In double exponential smoothing, hyperparameter we need to tune are alpha (first order smoothing factor) and beta (second order smoothing factor)"
   ]
  },
  {
   "cell_type": "code",
   "execution_count": 44,
   "metadata": {
    "ExecuteTime": {
     "end_time": "2019-10-04T03:04:54.705622Z",
     "start_time": "2019-10-04T03:04:54.693130Z"
    }
   },
   "outputs": [],
   "source": [
    "def DEF(train_data, train_number, test_number):\n",
    "    alpha_beta = []\n",
    "    rmse = []\n",
    "    for alpha in np.arange(0.1, 1, 0.1): #looping on alpha\n",
    "        for beta in np.arange(0, 1, 0.1): #looping on beta\n",
    "            forcs = []\n",
    "            for roll in range(0, test_number):\n",
    "                train = train_data.iloc[1:(train_number + roll), 0]\n",
    "                double_exp = Holt(np.array(train), exponential=True)\n",
    "                fit_double_exp = double_exp.fit(smoothing_level=alpha, smoothing_slope=beta)\n",
    "                forecast = fit_double_exp.forecast()\n",
    "                forcs.append(forecast[0])\n",
    "            rmse.append(np.sqrt(mean_squared_error(train_data.iloc[train_number:, 0].tolist(), forcs)))\n",
    "            alpha_beta.append([alpha, beta])\n",
    "    print('Best hyperparameter is ' + str(alpha_beta[rmse.index([min(rmse)])])+ ' with RMSE ' + str(min(rmse)))"
   ]
  },
  {
   "cell_type": "code",
   "execution_count": 45,
   "metadata": {
    "ExecuteTime": {
     "end_time": "2019-10-04T03:05:07.696629Z",
     "start_time": "2019-10-04T03:04:56.869131Z"
    }
   },
   "outputs": [
    {
     "name": "stdout",
     "output_type": "stream",
     "text": [
      "Best hyperparameter is [0.9, 0.0] with RMSE 73.79346823046899\n"
     ]
    }
   ],
   "source": [
    "DEF(df, 140,4)"
   ]
  },
  {
   "cell_type": "markdown",
   "metadata": {},
   "source": [
    "## Double Exponential with Dampening"
   ]
  },
  {
   "cell_type": "markdown",
   "metadata": {},
   "source": [
    "In this kind of double exponential smoothing, hyperparameter we need to tune are alpha (first order smoothing factor), beta (second order smoothing factor), and damping factor. Dampening means reducing the size of the trend over future time steps down to a straight line (no trend)."
   ]
  },
  {
   "cell_type": "markdown",
   "metadata": {},
   "source": [
    "https://machinelearningmastery.com/exponential-smoothing-for-time-series-forecasting-in-python/\n",
    "\n",
    "You can check it here for future information."
   ]
  },
  {
   "cell_type": "code",
   "execution_count": 70,
   "metadata": {
    "ExecuteTime": {
     "end_time": "2019-10-04T04:04:22.383990Z",
     "start_time": "2019-10-04T04:04:22.361990Z"
    }
   },
   "outputs": [],
   "source": [
    "def DEF_damping(train_data, train_number, test_number):\n",
    "    alpha_beta_damp = []\n",
    "    rmse = []\n",
    "    for alpha in np.arange(0.1, 1, 0.1): #looping on alpha\n",
    "        for beta in np.arange(0, 1, 0.1): #looping on beta\n",
    "            for damp in np.arange(0.8,1,0.1): #looping on damping coefficient\n",
    "                forcs = []\n",
    "                for roll in range(0, test_number):\n",
    "                    train = train_data.iloc[1:(train_number + roll), 0]\n",
    "                    double_exp = Holt(np.array(train), exponential=True, damped=True)\n",
    "                    fit_double_exp = double_exp.fit(smoothing_level=alpha, smoothing_slope=beta, damping_slope=damp)\n",
    "                    forecast = fit_double_exp.forecast()\n",
    "                    forcs.append(forecast[0])\n",
    "                rmse.append(np.sqrt(mean_squared_error(train_data.iloc[train_number:, 0].tolist(), forcs)))\n",
    "                alpha_beta_damp.append([alpha, beta, damp])\n",
    "    print('Best hyperparameter is ' + str(alpha_beta_damp[rmse.index([min(rmse)])])+ ' with RMSE ' + str(min(rmse)))"
   ]
  },
  {
   "cell_type": "code",
   "execution_count": 71,
   "metadata": {
    "ExecuteTime": {
     "end_time": "2019-10-04T04:04:40.279089Z",
     "start_time": "2019-10-04T04:04:22.387524Z"
    }
   },
   "outputs": [
    {
     "name": "stdout",
     "output_type": "stream",
     "text": [
      "Best hyperparameter is [0.1, 0.0, 0.8] with RMSE 48.26647990549607\n"
     ]
    }
   ],
   "source": [
    "DEF_damping(df,140,4)"
   ]
  },
  {
   "cell_type": "markdown",
   "metadata": {},
   "source": [
    "## Holt Winter"
   ]
  },
  {
   "cell_type": "code",
   "execution_count": 49,
   "metadata": {
    "ExecuteTime": {
     "end_time": "2019-10-04T03:11:33.497422Z",
     "start_time": "2019-10-04T03:11:33.487924Z"
    }
   },
   "outputs": [],
   "source": [
    "from statsmodels.tsa.api import ExponentialSmoothing"
   ]
  },
  {
   "cell_type": "markdown",
   "metadata": {},
   "source": [
    "In Holt Winter method, I just tune between additive and multiplicative methods. In the next improvement maybe we can tune first order, second order, and seasonal factor."
   ]
  },
  {
   "cell_type": "code",
   "execution_count": 72,
   "metadata": {
    "ExecuteTime": {
     "end_time": "2019-10-04T04:04:40.297677Z",
     "start_time": "2019-10-04T04:04:40.283993Z"
    }
   },
   "outputs": [],
   "source": [
    "def holt_winter(train_data, train_number, test_number):\n",
    "    trend_seasonal = []\n",
    "    rmse = []\n",
    "    trends = ['add', 'mul']\n",
    "    seasonals = ['add', 'mul']\n",
    "    for trend in trends :\n",
    "        for seasonal in seasonals:\n",
    "            forcs = []\n",
    "            for roll in range(0, test_number):\n",
    "                train = train_data.iloc[1:(train_number + roll), 0]\n",
    "                holt_w = ExponentialSmoothing(np.array(train), trend=trend, seasonal=seasonal, seasonal_periods=4)\n",
    "                fit_holt_w = holt_w.fit(use_boxcox=True)\n",
    "                forecast = fit_holt_w.forecast()\n",
    "                forcs.append(forecast[0])\n",
    "            rmse.append(np.sqrt(mean_squared_error(train_data.iloc[train_number:, 0].tolist(), forcs)))\n",
    "            trend_seasonal.append([trend, seasonal])\n",
    "    print('Best hyperparameter is ' + str(trend_seasonal[rmse.index([min(rmse)])])+ ' with RMSE ' + str(min(rmse)))"
   ]
  },
  {
   "cell_type": "code",
   "execution_count": 73,
   "metadata": {
    "ExecuteTime": {
     "end_time": "2019-10-04T04:05:19.797000Z",
     "start_time": "2019-10-04T04:04:40.300494Z"
    }
   },
   "outputs": [
    {
     "name": "stdout",
     "output_type": "stream",
     "text": [
      "Best hyperparameter is ['mul', 'add'] with RMSE 40.205102245547224\n"
     ]
    }
   ],
   "source": [
    "holt_winter(df, 140,4)"
   ]
  },
  {
   "cell_type": "markdown",
   "metadata": {},
   "source": [
    "## ARIMA"
   ]
  },
  {
   "cell_type": "code",
   "execution_count": 74,
   "metadata": {
    "ExecuteTime": {
     "end_time": "2019-10-04T04:05:19.812561Z",
     "start_time": "2019-10-04T04:05:19.803555Z"
    }
   },
   "outputs": [],
   "source": [
    "from statsmodels.tsa.api import ARIMA"
   ]
  },
  {
   "cell_type": "markdown",
   "metadata": {},
   "source": [
    "In ARIMA, I tune p,d,q as combinations of 0,1, and 2"
   ]
  },
  {
   "cell_type": "code",
   "execution_count": 75,
   "metadata": {
    "ExecuteTime": {
     "end_time": "2019-10-04T04:05:19.851995Z",
     "start_time": "2019-10-04T04:05:19.824997Z"
    }
   },
   "outputs": [],
   "source": [
    "def arima(train_data, train_number, test_number):\n",
    "    order_ = []\n",
    "    rmse = []\n",
    "    for p in range(0,3) :\n",
    "        for d in range(0,3):\n",
    "            for q in range(0,3):\n",
    "                try: \n",
    "                    forcs = []\n",
    "                    for roll in range(0, test_number):\n",
    "                        train = train_data.iloc[1:(train_number + roll), 0]\n",
    "                        arima_mod = ARIMA(np.array(train), order=[p,d,q])\n",
    "                        fit_arima = arima_mod.fit(use_boxcox=True)\n",
    "                        forecast = fit_arima.forecast()\n",
    "                        forcs.append(forecast[0])\n",
    "                    rmse.append(np.sqrt(mean_squared_error(train_data.iloc[train_number:, 0].tolist(), forcs)))\n",
    "                    order_.append([p,d,q])\n",
    "                except:\n",
    "                    pass\n",
    "    print('Best hyperparameter is ' + str(order_[rmse.index([min(rmse)])])+ ' with RMSE ' + str(min(rmse)))"
   ]
  },
  {
   "cell_type": "code",
   "execution_count": 76,
   "metadata": {
    "ExecuteTime": {
     "end_time": "2019-10-04T04:05:39.726217Z",
     "start_time": "2019-10-04T04:05:19.857995Z"
    }
   },
   "outputs": [
    {
     "name": "stdout",
     "output_type": "stream",
     "text": [
      "Best hyperparameter is [2, 1, 1] with RMSE 40.66976181781795\n"
     ]
    }
   ],
   "source": [
    "arima(df, 140,4)"
   ]
  },
  {
   "cell_type": "markdown",
   "metadata": {},
   "source": [
    "## SARIMA"
   ]
  },
  {
   "cell_type": "code",
   "execution_count": 77,
   "metadata": {
    "ExecuteTime": {
     "end_time": "2019-10-04T04:05:39.738000Z",
     "start_time": "2019-10-04T04:05:39.732993Z"
    }
   },
   "outputs": [],
   "source": [
    "from statsmodels.tsa.api import SARIMAX\n",
    "import itertools"
   ]
  },
  {
   "cell_type": "markdown",
   "metadata": {},
   "source": [
    "SARIMA : tune the (p,d,q)(P,D,Q,m) with m=12. Because the data frame is monthly data, so it hopefully have 1 year seasonal pattern"
   ]
  },
  {
   "cell_type": "code",
   "execution_count": 78,
   "metadata": {
    "ExecuteTime": {
     "end_time": "2019-10-04T04:05:39.759500Z",
     "start_time": "2019-10-04T04:05:39.742496Z"
    }
   },
   "outputs": [],
   "source": [
    "def sarima(train_data, train_number, test_number):\n",
    "    p = d = q = range(0, 2)\n",
    "    m = [12]\n",
    "    order_ = []\n",
    "    rmse =[]\n",
    "    pdq = list(itertools.product(p,d,q))\n",
    "    pdq_seasonal = list(itertools.product(p,d,q,m))\n",
    "    for pdq_i in pdq :\n",
    "        for s_i in pdq_seasonal:\n",
    "            try: \n",
    "                forcs = []\n",
    "                for roll in range(0, test_number):\n",
    "                    train = train_data.iloc[1:(train_number + roll), 0]\n",
    "                    sarima_mod = SARIMAX(np.array(train), order=pdq_i, seasonal_order=s_i)\n",
    "                    fit_sarima = sarima_mod.fit(use_boxcox=True)\n",
    "                    forecast = fit_sarima.forecast()\n",
    "                    forcs.append(forecast[0])\n",
    "                rmse.append(np.sqrt(mean_squared_error(train_data.iloc[train_number:, 0].tolist(), forcs)))\n",
    "                order_.append([pdq_i, s_i])\n",
    "            except:\n",
    "                pass\n",
    "    print('Best hyperparameter is ' + str(order_[rmse.index([min(rmse)])])+ ' with RMSE ' + str(min(rmse)))"
   ]
  },
  {
   "cell_type": "code",
   "execution_count": 79,
   "metadata": {
    "ExecuteTime": {
     "end_time": "2019-10-04T04:06:46.793169Z",
     "start_time": "2019-10-04T04:05:39.767001Z"
    }
   },
   "outputs": [
    {
     "name": "stdout",
     "output_type": "stream",
     "text": [
      "Best hyperparameter is [(1, 0, 1), (1, 1, 1, 12)] with RMSE 11.970535709947109\n"
     ]
    }
   ],
   "source": [
    "sarima(df,140,4)"
   ]
  },
  {
   "cell_type": "markdown",
   "metadata": {},
   "source": [
    "# Comparing all methods"
   ]
  },
  {
   "cell_type": "markdown",
   "metadata": {},
   "source": [
    "Let's make it in one line."
   ]
  },
  {
   "cell_type": "code",
   "execution_count": 80,
   "metadata": {
    "ExecuteTime": {
     "end_time": "2019-10-04T04:06:46.811675Z",
     "start_time": "2019-10-04T04:06:46.798669Z"
    }
   },
   "outputs": [],
   "source": [
    "def compare(train_data, train_number, test_number):\n",
    "    print('Hasil MA')\n",
    "    try :\n",
    "        MA(train_data, train_number, test_number)\n",
    "    except:\n",
    "        pass\n",
    "    print('Hasil single exponential smoothing')\n",
    "    try:\n",
    "        SES(train_data, train_number, test_number)\n",
    "    except:\n",
    "        pass\n",
    "    print('Hasil Double Exponential Smoothing')\n",
    "    try :\n",
    "        DEF(train_data, train_number, test_number)\n",
    "    except :\n",
    "        pass\n",
    "    print('Hasil Double Exponential with Damping')\n",
    "    try :\n",
    "        DEF_damping(train_data, train_number, test_number)\n",
    "    except:\n",
    "        pass\n",
    "    print('Hasil Holt-Winter')\n",
    "    try :\n",
    "        holt_winter(train_data, train_number, test_number)\n",
    "    except:\n",
    "        pass\n",
    "    print('Hasil ARIMA')\n",
    "    try:\n",
    "        arima(train_data, train_number, test_number)\n",
    "    except:\n",
    "        pass\n",
    "    print('Hasil SARIMA')\n",
    "    try:\n",
    "        sarima(train_data, train_number, test_number)\n",
    "    except:\n",
    "        pass"
   ]
  },
  {
   "cell_type": "code",
   "execution_count": 81,
   "metadata": {
    "ExecuteTime": {
     "end_time": "2019-10-04T04:09:23.445314Z",
     "start_time": "2019-10-04T04:06:46.819170Z"
    }
   },
   "outputs": [
    {
     "name": "stdout",
     "output_type": "stream",
     "text": [
      "Hasil MA\n",
      "Best hyperparameter is 26 with RMSE 43.03458169767066\n",
      "Hasil single exponential smoothing\n",
      "Best hyperparameter is 0.07 with RMSE 44.425253945643554\n",
      "Hasil Double Exponential Smoothing\n",
      "Best hyperparameter is [0.9, 0.0] with RMSE 73.79346823046899\n",
      "Hasil Double Exponential with Damping\n",
      "Best hyperparameter is [0.1, 0.0, 0.8] with RMSE 48.26647990549607\n",
      "Hasil Holt-Winter\n",
      "Best hyperparameter is ['mul', 'add'] with RMSE 40.205102245547224\n",
      "Hasil ARIMA\n",
      "Best hyperparameter is [2, 1, 1] with RMSE 40.66976181781795\n",
      "Hasil SARIMA\n",
      "Best hyperparameter is [(1, 0, 1), (1, 1, 1, 12)] with RMSE 11.970535709947109\n"
     ]
    }
   ],
   "source": [
    "compare(df,140,4)"
   ]
  }
 ],
 "metadata": {
  "kernelspec": {
   "display_name": "Python 3",
   "language": "python",
   "name": "python3"
  },
  "language_info": {
   "codemirror_mode": {
    "name": "ipython",
    "version": 3
   },
   "file_extension": ".py",
   "mimetype": "text/x-python",
   "name": "python",
   "nbconvert_exporter": "python",
   "pygments_lexer": "ipython3",
   "version": "3.8.5"
  },
  "toc": {
   "base_numbering": 1,
   "nav_menu": {},
   "number_sections": true,
   "sideBar": true,
   "skip_h1_title": false,
   "title_cell": "Table of Contents",
   "title_sidebar": "Contents",
   "toc_cell": false,
   "toc_position": {},
   "toc_section_display": true,
   "toc_window_display": false
  }
 },
 "nbformat": 4,
 "nbformat_minor": 2
}
